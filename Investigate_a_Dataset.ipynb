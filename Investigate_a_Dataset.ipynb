{
 "cells": [
  {
   "cell_type": "markdown",
   "metadata": {},
   "source": [
    "# Project: Investigating  FBI's gun dataset .\n",
    "\n",
    "## Table of Contents\n",
    "<ul>\n",
    "<li><a href=\"#intro\">Introduction</a></li>\n",
    "<li><a href=\"#quest\">Questions</a></li>\n",
    "<li><a href=\"#wrangling\">Data Wrangling</a></li>\n",
    "<li><a href=\"#eda\">Exploratory Data Analysis</a></li>\n",
    "<li><a href=\"#conclusions\">Conclusions</a></li>\n",
    "</ul>"
   ]
  },
  {
   "cell_type": "markdown",
   "metadata": {},
   "source": [
    "<a id='intro'></a>\n",
    "## Introduction ^_^\n",
    "\n",
    "> In This Project We Will Be Analyzing Data Collected from the FBI's National Instant Criminal Background Check System.\n",
    "<br>\n",
    "<br>The data comes from the FBI's National Instant Criminal Background Check System. The NICS is used by to determine whether aprospective buyer is eligible to buy firearms or explosives. Gun shops call into this system to ensure that each customer does not have a criminal record or isn’t otherwise ineligible to make a purchase. The data has been supplemented with state level data from census.gov.\n",
    "\n"
   ]
  },
  {
   "cell_type": "markdown",
   "metadata": {},
   "source": [
    "<a id='quest'></a>\n",
    "## Questions !\n",
    "><ol>\n",
    "><li> Which states have had the highest and lowest gun per captia ?</li>\n",
    "><li> Which states have had the highest growth in gun registrations ?</li>\n",
    "><li> Which states have had the lowest growth in gun registrations ?</li>   \n",
    "><li> What is the overall trend of gun purchases ?</li>\n",
    "><li> What  is the relation between census data and high gun per capita?</li>\n",
    "><ol>"
   ]
  },
  {
   "cell_type": "code",
   "execution_count": 1,
   "metadata": {},
   "outputs": [],
   "source": [
    "import pandas as pd \n",
    "import numpy as np\n",
    "import matplotlib.pyplot as plt\n",
    "import seaborn as sns\n",
    "% matplotlib inline "
   ]
  },
  {
   "cell_type": "markdown",
   "metadata": {},
   "source": [
    "<a id='wrangling'></a>\n",
    "## Data Wrangling\n",
    "\n",
    "### General Properties"
   ]
  },
  {
   "cell_type": "markdown",
   "metadata": {
    "collapsed": true
   },
   "source": [
    "__1. Loading our data and Performing operations to inspect data__"
   ]
  },
  {
   "cell_type": "code",
   "execution_count": 2,
   "metadata": {},
   "outputs": [],
   "source": [
    "#loading census data and fbi gun data"
   ]
  },
  {
   "cell_type": "code",
   "execution_count": null,
   "metadata": {},
   "outputs": [],
   "source": [
    "df_fbi = pd.read_excel(\"gun_data.xlsx\")\n",
    "df_census = pd.read_csv(\"U.S. Census Data.csv\")"
   ]
  },
  {
   "cell_type": "code",
   "execution_count": null,
   "metadata": {},
   "outputs": [],
   "source": [
    "#exploring data in both files"
   ]
  },
  {
   "cell_type": "code",
   "execution_count": null,
   "metadata": {},
   "outputs": [],
   "source": [
    "df_fbi.head(3)"
   ]
  },
  {
   "cell_type": "code",
   "execution_count": null,
   "metadata": {
    "scrolled": true
   },
   "outputs": [],
   "source": [
    "df_census.head(3)"
   ]
  },
  {
   "cell_type": "code",
   "execution_count": null,
   "metadata": {},
   "outputs": [],
   "source": [
    "df_fbi.shape"
   ]
  },
  {
   "cell_type": "code",
   "execution_count": null,
   "metadata": {},
   "outputs": [],
   "source": [
    "df_census.shape"
   ]
  },
  {
   "cell_type": "markdown",
   "metadata": {},
   "source": [
    "__2.types and look for instances of missing or possibly errant data.__"
   ]
  },
  {
   "cell_type": "code",
   "execution_count": null,
   "metadata": {},
   "outputs": [],
   "source": [
    "#searching for problems in the data (Nan values ,dduplicated , wrong format , etc...)"
   ]
  },
  {
   "cell_type": "code",
   "execution_count": null,
   "metadata": {
    "scrolled": false
   },
   "outputs": [],
   "source": [
    "df_fbi.info()"
   ]
  },
  {
   "cell_type": "code",
   "execution_count": null,
   "metadata": {},
   "outputs": [],
   "source": [
    "# to know type of data in month column"
   ]
  },
  {
   "cell_type": "code",
   "execution_count": null,
   "metadata": {},
   "outputs": [],
   "source": [
    "type(df_fbi['month'][0])"
   ]
  },
  {
   "cell_type": "code",
   "execution_count": null,
   "metadata": {
    "scrolled": false
   },
   "outputs": [],
   "source": [
    "df_census.info()"
   ]
  },
  {
   "cell_type": "code",
   "execution_count": null,
   "metadata": {},
   "outputs": [],
   "source": [
    "df_fbi.describe()"
   ]
  },
  {
   "cell_type": "code",
   "execution_count": null,
   "metadata": {
    "scrolled": true
   },
   "outputs": [],
   "source": [
    "df_census.describe()"
   ]
  },
  {
   "cell_type": "code",
   "execution_count": null,
   "metadata": {},
   "outputs": [],
   "source": [
    "# to find number of states in fbi data"
   ]
  },
  {
   "cell_type": "code",
   "execution_count": null,
   "metadata": {},
   "outputs": [],
   "source": [
    "df_fbi['state'].nunique()"
   ]
  },
  {
   "cell_type": "code",
   "execution_count": null,
   "metadata": {},
   "outputs": [],
   "source": [
    "#to find number of states in census data "
   ]
  },
  {
   "cell_type": "code",
   "execution_count": null,
   "metadata": {
    "scrolled": true
   },
   "outputs": [],
   "source": [
    "len(df_census.columns[2:])"
   ]
  },
  {
   "cell_type": "code",
   "execution_count": null,
   "metadata": {},
   "outputs": [],
   "source": [
    "df_fbi.duplicated().sum()"
   ]
  },
  {
   "cell_type": "code",
   "execution_count": null,
   "metadata": {},
   "outputs": [],
   "source": [
    "#number of duplicated rows in census data"
   ]
  },
  {
   "cell_type": "code",
   "execution_count": null,
   "metadata": {},
   "outputs": [],
   "source": [
    "df_census.duplicated().sum()"
   ]
  },
  {
   "cell_type": "markdown",
   "metadata": {},
   "source": [
    "__note>> there are 55 state in fbi_gun data but only 50 are in census data__"
   ]
  },
  {
   "cell_type": "markdown",
   "metadata": {},
   "source": [
    "### Data Cleaning \""
   ]
  },
  {
   "cell_type": "markdown",
   "metadata": {},
   "source": [
    ">__1. changing month column in fbi_gun data from string to date time.__"
   ]
  },
  {
   "cell_type": "code",
   "execution_count": null,
   "metadata": {},
   "outputs": [],
   "source": [
    "# to change format of values in month column to (date time)"
   ]
  },
  {
   "cell_type": "code",
   "execution_count": null,
   "metadata": {},
   "outputs": [],
   "source": [
    "df_fbi['month'] = pd.to_datetime(df_fbi['month']);"
   ]
  },
  {
   "cell_type": "code",
   "execution_count": null,
   "metadata": {},
   "outputs": [],
   "source": [
    "#to make list of unique state's names"
   ]
  },
  {
   "cell_type": "code",
   "execution_count": null,
   "metadata": {
    "scrolled": true
   },
   "outputs": [],
   "source": [
    "uni = list(set(df_fbi['state']))"
   ]
  },
  {
   "cell_type": "markdown",
   "metadata": {},
   "source": [
    "> __2.removing states which is not presented in the census data.__"
   ]
  },
  {
   "cell_type": "code",
   "execution_count": null,
   "metadata": {},
   "outputs": [],
   "source": [
    "# to create list with states which is not pressented in census data but represented in fbi data"
   ]
  },
  {
   "cell_type": "code",
   "execution_count": null,
   "metadata": {
    "scrolled": true
   },
   "outputs": [],
   "source": [
    "nst = []\n",
    "for state in uni:\n",
    "    if state not in df_census.columns[2:]:       \n",
    "        nst.append(state)\n",
    "nst"
   ]
  },
  {
   "cell_type": "code",
   "execution_count": null,
   "metadata": {},
   "outputs": [],
   "source": [
    "# to remove the states which is not represented in census data"
   ]
  },
  {
   "cell_type": "code",
   "execution_count": null,
   "metadata": {},
   "outputs": [],
   "source": [
    "for i in nst:\n",
    "    df_fbi = df_fbi[df_fbi.state != i]\n",
    "df_fbi.state.nunique()"
   ]
  },
  {
   "cell_type": "markdown",
   "metadata": {},
   "source": [
    "> __3.remving duplicated rows.__"
   ]
  },
  {
   "cell_type": "code",
   "execution_count": null,
   "metadata": {},
   "outputs": [],
   "source": [
    "#to remove duplicated rows and makeing sure they are deleted"
   ]
  },
  {
   "cell_type": "code",
   "execution_count": null,
   "metadata": {},
   "outputs": [],
   "source": [
    "df_census.drop_duplicates(inplace = True)\n",
    "df_census.duplicated().sum()"
   ]
  },
  {
   "cell_type": "markdown",
   "metadata": {},
   "source": [
    "> __4.removing seprator \" , \" from numbers__"
   ]
  },
  {
   "cell_type": "code",
   "execution_count": null,
   "metadata": {},
   "outputs": [],
   "source": [
    "# converting numbers from 1000,000, format to 1000000 toavoid problems"
   ]
  },
  {
   "cell_type": "code",
   "execution_count": null,
   "metadata": {},
   "outputs": [],
   "source": [
    "for i in df_census.iloc[1:,2:].columns:\n",
    "    df_census[i] = df_census[i].str.replace(',', '')\n"
   ]
  },
  {
   "cell_type": "markdown",
   "metadata": {},
   "source": [
    "> __5.extracting/converting numbers type from strings to floats.__"
   ]
  },
  {
   "cell_type": "code",
   "execution_count": null,
   "metadata": {},
   "outputs": [],
   "source": [
    "# to convert string data in the data frame to float type"
   ]
  },
  {
   "cell_type": "code",
   "execution_count": null,
   "metadata": {},
   "outputs": [],
   "source": [
    "for i in df_census.iloc[1:,2:].columns:\n",
    "    df_census[i] = df_census[i].str.extract('(\\d+)').astype(float)"
   ]
  },
  {
   "cell_type": "code",
   "execution_count": null,
   "metadata": {},
   "outputs": [],
   "source": [
    "df_census.head()"
   ]
  },
  {
   "cell_type": "code",
   "execution_count": null,
   "metadata": {},
   "outputs": [],
   "source": [
    "df_fbi['multiple'] = df_fbi['multiple'].astype(float)\n",
    "df_fbi['totals'] = df_fbi['totals'].astype(float)"
   ]
  },
  {
   "cell_type": "markdown",
   "metadata": {},
   "source": [
    "> __6.making sure if NAN values are missing data or just 0.0__"
   ]
  },
  {
   "cell_type": "code",
   "execution_count": null,
   "metadata": {},
   "outputs": [],
   "source": [
    "#subtracting the sum of all guns from total column \n",
    "#we multiplied totals by 2 cause we put it to the summition first"
   ]
  },
  {
   "cell_type": "code",
   "execution_count": null,
   "metadata": {
    "scrolled": true
   },
   "outputs": [],
   "source": [
    "df_fbi[:].sum(axis=1)-2*df_fbi['totals']"
   ]
  },
  {
   "cell_type": "markdown",
   "metadata": {},
   "source": [
    "### note>> the totals = sum of all columns so missing data are 0.0"
   ]
  },
  {
   "cell_type": "markdown",
   "metadata": {},
   "source": [
    "> __7.convrting Nan values to 0.0__"
   ]
  },
  {
   "cell_type": "code",
   "execution_count": null,
   "metadata": {},
   "outputs": [],
   "source": [
    "#to convert nan values to zeroes"
   ]
  },
  {
   "cell_type": "code",
   "execution_count": null,
   "metadata": {
    "scrolled": true
   },
   "outputs": [],
   "source": [
    "df_fbi.fillna(0.0, inplace = True)"
   ]
  },
  {
   "cell_type": "code",
   "execution_count": null,
   "metadata": {
    "scrolled": false
   },
   "outputs": [],
   "source": [
    "df_fbi.info()"
   ]
  },
  {
   "cell_type": "code",
   "execution_count": null,
   "metadata": {},
   "outputs": [],
   "source": [
    "df_census.fillna(0, inplace = True)"
   ]
  },
  {
   "cell_type": "code",
   "execution_count": null,
   "metadata": {
    "scrolled": false
   },
   "outputs": [],
   "source": [
    "df_census.info()"
   ]
  },
  {
   "cell_type": "code",
   "execution_count": null,
   "metadata": {},
   "outputs": [],
   "source": [
    "#converting columns and indexes to lower case to beasy to write and remember"
   ]
  },
  {
   "cell_type": "code",
   "execution_count": null,
   "metadata": {},
   "outputs": [],
   "source": [
    "df_fbi['state'] = df_fbi['state'].str.lower()"
   ]
  },
  {
   "cell_type": "code",
   "execution_count": null,
   "metadata": {},
   "outputs": [],
   "source": [
    "df_census.columns = df_census.columns.str.lower()"
   ]
  },
  {
   "cell_type": "code",
   "execution_count": null,
   "metadata": {},
   "outputs": [],
   "source": [
    "df_census['fact'] = df_census['fact'].str.lower()"
   ]
  },
  {
   "cell_type": "markdown",
   "metadata": {},
   "source": [
    "<a id='eda'></a>\n",
    "## Exploratory Data Analysis\n",
    "\n",
    "### Research Question 1 (Which states have had the highest and lowest gun per captia ?)"
   ]
  },
  {
   "cell_type": "markdown",
   "metadata": {},
   "source": [
    "> __calculating highst and lowest and highst gun per captia in 2010__"
   ]
  },
  {
   "cell_type": "code",
   "execution_count": null,
   "metadata": {},
   "outputs": [],
   "source": [
    "#extracting month and year from month column"
   ]
  },
  {
   "cell_type": "code",
   "execution_count": null,
   "metadata": {},
   "outputs": [],
   "source": [
    "df_fbi['year'] = pd.DatetimeIndex(df_fbi['month']).year\n",
    "df_fbi['month num'] = pd.DatetimeIndex(df_fbi['month']).month"
   ]
  },
  {
   "cell_type": "code",
   "execution_count": null,
   "metadata": {},
   "outputs": [],
   "source": [
    "#making new data frame for 2010 data only"
   ]
  },
  {
   "cell_type": "code",
   "execution_count": null,
   "metadata": {},
   "outputs": [],
   "source": [
    "df_2010 = df_fbi.query('year == 2010')"
   ]
  },
  {
   "cell_type": "code",
   "execution_count": null,
   "metadata": {},
   "outputs": [],
   "source": [
    "# because data recorded in  census data in july only so we will combine guns data in 7 monthos only "
   ]
  },
  {
   "cell_type": "code",
   "execution_count": null,
   "metadata": {},
   "outputs": [],
   "source": [
    "df_2010 = df_2010[df_2010['month num'] <= 7]"
   ]
  },
  {
   "cell_type": "code",
   "execution_count": null,
   "metadata": {},
   "outputs": [],
   "source": [
    "# index will be state to group our data"
   ]
  },
  {
   "cell_type": "code",
   "execution_count": null,
   "metadata": {},
   "outputs": [],
   "source": [
    "df_2010 = df_2010.groupby('state')"
   ]
  },
  {
   "cell_type": "code",
   "execution_count": null,
   "metadata": {},
   "outputs": [],
   "source": [
    "df_2010 = df_2010.sum()"
   ]
  },
  {
   "cell_type": "code",
   "execution_count": null,
   "metadata": {},
   "outputs": [],
   "source": [
    "#making an array for gun per capita in 2010 and merging it with the data"
   ]
  },
  {
   "cell_type": "code",
   "execution_count": null,
   "metadata": {},
   "outputs": [],
   "source": [
    "l = [] \n",
    "for i in df_2010.index:\n",
    "    l.append(df_2010['totals'][i] / df_census[i][0])\n",
    "df_2010['gun_per_capita'] = l"
   ]
  },
  {
   "cell_type": "code",
   "execution_count": null,
   "metadata": {},
   "outputs": [],
   "source": [
    "# idxmax to find index with maximum vallue"
   ]
  },
  {
   "cell_type": "code",
   "execution_count": null,
   "metadata": {},
   "outputs": [],
   "source": [
    "df_2010['gun_per_capita'].idxmax()"
   ]
  },
  {
   "cell_type": "code",
   "execution_count": null,
   "metadata": {},
   "outputs": [],
   "source": [
    "df_2010['gun_per_capita'].loc[df_2010['gun_per_capita'].idxmax()]"
   ]
  },
  {
   "cell_type": "code",
   "execution_count": null,
   "metadata": {},
   "outputs": [],
   "source": [
    "# idxmin to find index with minimum vallue"
   ]
  },
  {
   "cell_type": "code",
   "execution_count": null,
   "metadata": {},
   "outputs": [],
   "source": [
    "df_2010['gun_per_capita'].idxmin()"
   ]
  },
  {
   "cell_type": "code",
   "execution_count": null,
   "metadata": {},
   "outputs": [],
   "source": [
    "df_2010['gun_per_capita'].loc[df_2010['gun_per_capita'].idxmin()]"
   ]
  },
  {
   "cell_type": "code",
   "execution_count": null,
   "metadata": {},
   "outputs": [],
   "source": [
    "#visualising our data"
   ]
  },
  {
   "cell_type": "code",
   "execution_count": null,
   "metadata": {},
   "outputs": [],
   "source": [
    "a = df_2010['gun_per_capita'].plot(kind = 'bar',figsize=(18,10), title='gun per capita 2010');\n",
    "a.set_xlabel(\"state\", fontsize = 18);\n",
    "a.set_ylabel(\"gun per capita\", fontsize = 18);"
   ]
  },
  {
   "cell_type": "markdown",
   "metadata": {},
   "source": [
    "## in 2010\n",
    "### the highst gun per cpita in (kentucky) which equals 0.33466547245938333 \n",
    "### the lowest gun per cpita in (new jersey) which equals 0.0031622894550811234"
   ]
  },
  {
   "cell_type": "markdown",
   "metadata": {},
   "source": [
    "> __calculating highst and lowest and highst gun per captia in 2010__"
   ]
  },
  {
   "cell_type": "code",
   "execution_count": null,
   "metadata": {},
   "outputs": [],
   "source": [
    "#doing the same with 2016 data \n",
    "##extracting month and year from month column"
   ]
  },
  {
   "cell_type": "code",
   "execution_count": null,
   "metadata": {},
   "outputs": [],
   "source": [
    "df_fbi['year'] = pd.DatetimeIndex(df_fbi['month']).year\n",
    "df_fbi['month num'] = pd.DatetimeIndex(df_fbi['month']).month"
   ]
  },
  {
   "cell_type": "code",
   "execution_count": null,
   "metadata": {},
   "outputs": [],
   "source": [
    "df_2016 = df_fbi.query('year == 2016')"
   ]
  },
  {
   "cell_type": "code",
   "execution_count": null,
   "metadata": {},
   "outputs": [],
   "source": [
    "# because data recorded in census data only so we will combine guns data in 7 monthos only "
   ]
  },
  {
   "cell_type": "code",
   "execution_count": null,
   "metadata": {},
   "outputs": [],
   "source": [
    "df_2016 = df_2016[df_2016['month num'] <= 7]"
   ]
  },
  {
   "cell_type": "code",
   "execution_count": null,
   "metadata": {},
   "outputs": [],
   "source": [
    "df_2016 = df_2016.groupby('state')"
   ]
  },
  {
   "cell_type": "code",
   "execution_count": null,
   "metadata": {},
   "outputs": [],
   "source": [
    "df_2016 = df_2016.sum()"
   ]
  },
  {
   "cell_type": "code",
   "execution_count": null,
   "metadata": {},
   "outputs": [],
   "source": [
    "#making an array for gun per capita in 2010 and merging it with the data"
   ]
  },
  {
   "cell_type": "code",
   "execution_count": null,
   "metadata": {},
   "outputs": [],
   "source": [
    "p = [] \n",
    "for i in df_2016.index:\n",
    "    p.append(df_2016['totals'][i] / df_census[i][1])\n",
    "df_2016['gun_per_capita'] = p"
   ]
  },
  {
   "cell_type": "code",
   "execution_count": null,
   "metadata": {},
   "outputs": [],
   "source": [
    "df_2016['gun_per_capita'].idxmax()"
   ]
  },
  {
   "cell_type": "code",
   "execution_count": null,
   "metadata": {},
   "outputs": [],
   "source": [
    "df_2016['gun_per_capita'].loc[df_2010['gun_per_capita'].idxmax()]"
   ]
  },
  {
   "cell_type": "code",
   "execution_count": null,
   "metadata": {},
   "outputs": [],
   "source": [
    "df_2016['gun_per_capita'].idxmin()"
   ]
  },
  {
   "cell_type": "code",
   "execution_count": null,
   "metadata": {},
   "outputs": [],
   "source": [
    "df_2016['gun_per_capita'].loc[df_2010['gun_per_capita'].idxmin()]"
   ]
  },
  {
   "cell_type": "code",
   "execution_count": null,
   "metadata": {},
   "outputs": [],
   "source": [
    "#visualising our findings"
   ]
  },
  {
   "cell_type": "code",
   "execution_count": null,
   "metadata": {},
   "outputs": [],
   "source": [
    "a = df_2016['gun_per_capita'].plot(kind = 'bar',figsize=(18,10), title='gun per capita 2016');\n",
    "a.set_xlabel(\"state\", fontsize = 18);\n",
    "a.set_ylabel(\"gun per capita\", fontsize = 18);"
   ]
  },
  {
   "cell_type": "markdown",
   "metadata": {},
   "source": [
    "## in 2016\n",
    "### the highst gun per cpita in (kentucky) which equals 0.51663845963813881\n",
    "### the lowest gun per cpita in (hawaii) which equals 0.0080467900590460387"
   ]
  },
  {
   "cell_type": "markdown",
   "metadata": {},
   "source": [
    "### Research Question 2  (Which states have had the highest growth in gun registrations ?)"
   ]
  },
  {
   "cell_type": "code",
   "execution_count": null,
   "metadata": {},
   "outputs": [],
   "source": [
    "#to calculate in crease in gun per capita from 2010 to 2016"
   ]
  },
  {
   "cell_type": "code",
   "execution_count": null,
   "metadata": {},
   "outputs": [],
   "source": [
    "df_2016['gun increase'] = df_2016['gun_per_capita']-df_2010['gun_per_capita']"
   ]
  },
  {
   "cell_type": "code",
   "execution_count": null,
   "metadata": {},
   "outputs": [],
   "source": [
    "#visualising our data using bar chart"
   ]
  },
  {
   "cell_type": "code",
   "execution_count": null,
   "metadata": {},
   "outputs": [],
   "source": [
    "df_2016['gun increase'].plot(kind = 'bar', figsize=(18,10), title='gun per capita growth from 2010 to 2016');\n",
    "plt.ylabel(\"gun per capita increase\", fontsize = 18);\n",
    "plt.xlabel(\"state\", fontsize = 18);"
   ]
  },
  {
   "cell_type": "code",
   "execution_count": null,
   "metadata": {},
   "outputs": [],
   "source": [
    "df_2016['gun increase'].idxmax()"
   ]
  },
  {
   "cell_type": "code",
   "execution_count": null,
   "metadata": {
    "scrolled": true
   },
   "outputs": [],
   "source": [
    "df_2016['gun increase'].loc[df_2016['gun increase'].idxmax()]"
   ]
  },
  {
   "cell_type": "markdown",
   "metadata": {},
   "source": [
    "####  NOTE >>kentucky  have the highest growth in gun registrations with an increase of 0.18197298717875549 in gun per capita from 2010 to 2016"
   ]
  },
  {
   "cell_type": "markdown",
   "metadata": {},
   "source": [
    "### Research Question 3  (Which states have had the lowest growth in gun registrations ?)"
   ]
  },
  {
   "cell_type": "code",
   "execution_count": null,
   "metadata": {},
   "outputs": [],
   "source": [
    "df_2016['gun increase'].idxmin()"
   ]
  },
  {
   "cell_type": "code",
   "execution_count": null,
   "metadata": {},
   "outputs": [],
   "source": [
    "df_2016['gun increase'].loc[df_2016['gun increase'].idxmin()]"
   ]
  },
  {
   "cell_type": "markdown",
   "metadata": {},
   "source": [
    "#### NOTE >> utah  have the lowest growth in gun registrations with an decrease of -0.033022139228623112 in gun per capita from 2010 to 2016"
   ]
  },
  {
   "cell_type": "markdown",
   "metadata": {},
   "source": [
    "### Research Question 4  (What is the overall trend of gun purchases ?)"
   ]
  },
  {
   "cell_type": "code",
   "execution_count": null,
   "metadata": {},
   "outputs": [],
   "source": [
    "#grouping data by month and year to observe the change in gun purchase"
   ]
  },
  {
   "cell_type": "code",
   "execution_count": null,
   "metadata": {},
   "outputs": [],
   "source": [
    "trend = df_fbi.groupby(['month'])['totals'].sum()"
   ]
  },
  {
   "cell_type": "code",
   "execution_count": null,
   "metadata": {},
   "outputs": [],
   "source": [
    "#Create line chart "
   ]
  },
  {
   "cell_type": "code",
   "execution_count": null,
   "metadata": {},
   "outputs": [],
   "source": [
    "trend.plot(kind='line', figsize=(18,12), label = 'Permit count');\n",
    "plt.xlabel('Time',fontsize = 18);\n",
    "plt.ylabel('gun purchase',fontsize = 18);\n",
    "plt.title('gun purchase trending over time',fontsize = 18);"
   ]
  },
  {
   "cell_type": "markdown",
   "metadata": {},
   "source": [
    "### Research Question 5 (What  is the relation between census data and high gun per capita?)"
   ]
  },
  {
   "cell_type": "code",
   "execution_count": null,
   "metadata": {},
   "outputs": [],
   "source": [
    "z = [] \n",
    "for i in df_fbi.state.unique():\n",
    "    z.append(df_census.iloc[0][i])\n",
    "plt.figure(figsize=(10,10))\n",
    "plt.scatter(z,df_2016['gun_per_capita']);\n",
    "plt.ylabel(\"Gun_Per_Capital_2016\");\n",
    "plt.xlabel(\"population estimated in 2016\");\n",
    "plt.title(\"relation between gun per capita and population in 2016\");\n",
    "\n"
   ]
  },
  {
   "cell_type": "code",
   "execution_count": null,
   "metadata": {},
   "outputs": [],
   "source": [
    "z = [] \n",
    "for i in df_fbi.state.unique():\n",
    "    z.append(df_census.iloc[1][i])\n",
    "plt.figure(figsize=(10,10))\n",
    "plt.scatter(z,df_2010['gun_per_capita']);\n",
    "plt.ylabel(\"Gun_Per_Capital_2010\");\n",
    "plt.xlabel(\"population estimated in 2010\");\n",
    "plt.title(\"relation between gun per capita and population in 2010\");\n"
   ]
  },
  {
   "cell_type": "code",
   "execution_count": null,
   "metadata": {},
   "outputs": [],
   "source": [
    "z = [] \n",
    "for i in df_fbi.state.unique():\n",
    "    z.append(df_census.iloc[22][i])\n",
    "plt.figure(figsize=(10,10))\n",
    "plt.scatter(z,df_2016['gun_per_capita']);\n",
    "plt.ylabel(\"Gun_Per_Capital\");\n",
    "plt.xlabel(\"\");\n",
    "plt.title(\"relation between gun per capita and housing units\");"
   ]
  },
  {
   "cell_type": "code",
   "execution_count": null,
   "metadata": {},
   "outputs": [],
   "source": [
    "z = [] \n",
    "for i in df_fbi.state.unique():\n",
    "    z.append(df_census.iloc[41][i])\n",
    "plt.figure(figsize=(10,10))\n",
    "plt.scatter(z,df_2016['gun_per_capita']);\n",
    "plt.ylabel(\"Gun_Per_Capital_2016\");\n",
    "plt.xlabel(\"population estimated in 2016\");\n",
    "plt.title(\"relation between gun per capita and health care\");"
   ]
  },
  {
   "cell_type": "markdown",
   "metadata": {},
   "source": [
    "<a id='conclusions'></a>\n",
    "## Conclusions\n",
    "__1.Which states have had the highest and lowest gun per captia__\n",
    "> in 2010\n",
    "<br>the highst gun per cpita in (kentucky) which equals 0.33466547245938333 \n",
    "<br>the lowest gun per cpita in (new jersey) which equals 0.0031622894550811234\n",
    "><br> in 2016\n",
    "<br>the highst gun per cpita in (kentucky) which equals 0.51663845963813881\n",
    "<br>the lowest gun per cpita in (hawaii) which equals 0.0080467900590460387\n",
    "\n",
    "__2.Which states have had the highest growth in gun registrations ?__\n",
    ">kentucky  have the highest growth in gun registrations with an increase of 0.18197298717875549 in gun per capita from 2010 to 2016\n",
    "\n",
    "__3.Which states have had the lowest growth in gun registrations ?__\n",
    ">utah  have the lowest growth in gun registrations with an decrease of -0.033022139228623112 in gun per capita from 2010 to 2016\n",
    "\n",
    "__4.the over all trend of gun purchase seems to be increasing over time.__\n",
    "\n",
    "__5.there is just weak relation between census data and gun per capita.__\n",
    "\n",
    "\n",
    "## Limitations\n",
    "> __1.our data with separated in two files.\n",
    "<br>2.there was some NAN values and some duplicated rows.\n",
    "<br>3.there was some missing states data in census data.\n",
    "<br>4.the data in census us was not sufficient as data was collected only in 2010 and 2016.\n",
    "<br>5.census data wasn't orgganized at all"
   ]
  },
  {
   "cell_type": "code",
   "execution_count": null,
   "metadata": {},
   "outputs": [],
   "source": [
    "from subprocess import call\n",
    "call(['python', '-m', 'nbconvert', 'Investigate_a_Dataset.ipynb'])"
   ]
  }
 ],
 "metadata": {
  "kernelspec": {
   "display_name": "Python 3",
   "language": "python",
   "name": "python3"
  },
  "language_info": {
   "codemirror_mode": {
    "name": "ipython",
    "version": 3
   },
   "file_extension": ".py",
   "mimetype": "text/x-python",
   "name": "python",
   "nbconvert_exporter": "python",
   "pygments_lexer": "ipython3",
   "version": "3.6.3"
  }
 },
 "nbformat": 4,
 "nbformat_minor": 2
}
